{
 "cells": [
  {
   "cell_type": "code",
   "execution_count": 1,
   "metadata": {},
   "outputs": [],
   "source": [
    "import clip\n",
    "import dnnlib\n",
    "import legacy\n",
    "import torch \n",
    "import torch.nn as nn\n",
    "import torch.nn.functional as F\n",
    "import torchvision\n",
    "import math\n",
    "from torchvision.utils import make_grid\n",
    "import pandas as pd\n",
    "import PIL \n",
    "import matplotlib.pyplot as plt\n",
    "import pickle\n",
    "import os\n",
    "import random\n",
    "import torch.optim.lr_scheduler as lrs\n",
    "import numpy as np\n",
    "from matplotlib import rc\n",
    "rc('text', usetex=True)\n",
    "rc('font', family='serif')"
   ]
  },
  {
   "cell_type": "code",
   "execution_count": 3,
   "metadata": {},
   "outputs": [],
   "source": [
    "class MLP(torch.nn.Module):\n",
    "  def __init__(self, input_dim, output_dim, hidden_dim=256, n_hidden=3):\n",
    "    super(MLP, self).__init__()\n",
    "    self.input_dim = input_dim\n",
    "    self.output_dim = output_dim\n",
    "    self.hidden_dim = hidden_dim\n",
    "    self.n_hidden = n_hidden\n",
    "    self.layers = torch.nn.ModuleList()\n",
    "    self.layers.append(torch.nn.Linear(self.input_dim, self.hidden_dim))\n",
    "    for i in range(self.n_hidden):\n",
    "      self.layers.append(torch.nn.Linear(self.hidden_dim, self.hidden_dim))\n",
    "    self.layers.append(torch.nn.Linear(self.hidden_dim, self.output_dim))\n",
    "\n",
    "    # 1- cosine similarity loss\n",
    "    self.loss = torch.nn.CosineSimilarity(dim=-1)\n",
    "  # def forward(self, x):\n",
    "    \n",
    "  #   x = x.float()\n",
    "  #   for i in range(len(self.layers)):\n",
    "  #     x = self.layers[i](x)\n",
    "      \n",
    "  #     if(i < len(self.layers)-1):\n",
    "  #       x = torch.nn.functional.relu(x)\n",
    "        \n",
    "  #   return x\n",
    "  def forward(self, x):\n",
    "    x = x.float()\n",
    "    for i in range(len(self.layers)):\n",
    "      x = self.layers[i](x)\n",
    "      if(i < len(self.layers)-1):\n",
    "        x = torch.nn.functional.relu(x)\n",
    "      else:\n",
    "        x = torch.nn.functional.tanh(x)\n",
    "    return x\n",
    "\n",
    "  def backward(self, clip, latent):\n",
    "    y_pred = self.forward(clip)\n",
    "    loss=self.loss(y_pred, latent)\n",
    "   \n",
    "    return 1-loss.mean()"
   ]
  },
  {
   "cell_type": "code",
   "execution_count": 6,
   "metadata": {},
   "outputs": [],
   "source": [
    "try:\n",
    "    MLP_path_cpu\n",
    "except NameError:\n",
    "    MLP_path_cpu = os.getcwd().replace(\"\\\\\", \"/\") + '/MLP_dataset_cpu/Nueva carpeta/'\n",
    "\n",
    "with open(MLP_path_cpu + 'clip_embeddings_cpu.pkl', 'rb') as f:\n",
    "    clip_embedding= pickle.load(f)\n",
    "with open(MLP_path_cpu + 'latent_vectors_cpu.pkl', 'rb') as f:\n",
    "    latent_vector = pickle.load(f)\n",
    "\n",
    "# print(type(clip_embedding_), clip_embedding_.shape)\n",
    "\n",
    "# # put all the embeddings and latent vectors in one tensor\n",
    "# clip_embedding = torch.cat(clip_embedding_)\n",
    "# latent_vector = torch.cat(latent_vector_)\n",
    "\n",
    "# MLP_path = os.getcwd().replace(\"\\\\\", \"/\") + '/MLP_dataset_std1/'\n",
    "\n",
    "# clip_embedding_ = []\n",
    "# latent_vector_ = []\n",
    "# for i in range(0, len(os.listdir(MLP_path))//2):\n",
    "#     with open(MLP_path+'clip_embeddings_' + str(i) + '.pkl', 'rb') as f:\n",
    "#         clip_embedding_.append(pickle.load(f))\n",
    "#     with open(MLP_path+'latent_vectors_' + str(i) + '.pkl', 'rb') as f:\n",
    "#         latent_vector_.append(pickle.load(f))\n",
    "\n",
    "# # put all the embeddings and latent vectors in one tensor\n",
    "# clip_embedding = torch.cat(clip_embedding_)\n",
    "# latent_vector = torch.cat(latent_vector_)\n",
    "\n",
    "dataset = torch.utils.data.TensorDataset(clip_embedding, latent_vector)\n",
    "\n",
    "# # split the dataset into train, validation and test sets\n",
    "train, val= torch.utils.data.random_split(dataset, [int(len(dataset)*0.85), int(len(dataset)*0.15)])\n",
    "train_loader = torch.utils.data.DataLoader(train, batch_size=48, shuffle=True)\n",
    "val_loader = torch.utils.data.DataLoader(val, batch_size=48, shuffle=True)\n",
    "\n"
   ]
  },
  {
   "cell_type": "code",
   "execution_count": null,
   "metadata": {},
   "outputs": [],
   "source": []
  },
  {
   "cell_type": "code",
   "execution_count": 7,
   "metadata": {},
   "outputs": [
    {
     "name": "stdout",
     "output_type": "stream",
     "text": [
      "48\n"
     ]
    }
   ],
   "source": [
    "\n",
    "for data in train_loader:\n",
    "    clip = data\n",
    "    print(len(clip[0]))\n",
    "    break\n",
    "\n",
    "\n",
    "\n"
   ]
  },
  {
   "cell_type": "code",
   "execution_count": 22,
   "metadata": {},
   "outputs": [
    {
     "name": "stdout",
     "output_type": "stream",
     "text": [
      "<class 'torch.Tensor'> torch.Size([10040, 64])\n"
     ]
    }
   ],
   "source": [
    "MLP_low_dim= os.getcwd().replace(\"\\\\\", \"/\") + '/decoders/'\n",
    "\n",
    "with open(MLP_low_dim + 'encoded_clip_embeddings.pkl', 'rb') as f:\n",
    "    clip_embedding_encoded= pickle.load(f)\n",
    "with open(MLP_low_dim + 'encoded_latent_vector.pkl', 'rb') as f:\n",
    "    latent_vector_encoded = pickle.load(f)\n",
    "\n",
    "print(type(clip_embedding_encoded), clip_embedding_encoded.shape)\n",
    "dataset= torch.utils.data.TensorDataset(clip_embedding_encoded, latent_vector_encoded)\n",
    "\n",
    "\n",
    "\n",
    "# split the dataset into train, validation and test sets\n",
    "train, val= torch.utils.data.random_split(dataset, [int(len(dataset)*0.85), int(len(dataset)*0.15)])\n",
    "train_loader = torch.utils.data.DataLoader(train, batch_size=64, shuffle=True)\n",
    "val_loader = torch.utils.data.DataLoader(val, batch_size=64, shuffle=True)\n",
    "\n",
    "\n"
   ]
  },
  {
   "cell_type": "code",
   "execution_count": 16,
   "metadata": {},
   "outputs": [
    {
     "name": "stdout",
     "output_type": "stream",
     "text": [
      "4323\n",
      "low dim  0.01993483304977417\n",
      "before  -0.058629680424928665\n"
     ]
    },
    {
     "data": {
      "text/plain": [
       "Text(0.5, 1.0, 'Cosine similarity Low dim')"
      ]
     },
     "execution_count": 16,
     "metadata": {},
     "output_type": "execute_result"
    },
    {
     "data": {
      "image/png": "[encoded data removed]",
      "text/plain": [
       "<Figure size 1000x1000 with 2 Axes>"
      ]
     },
     "metadata": {},
     "output_type": "display_data"
    }
   ],
   "source": [
    "index=random.randint(0, len(clip_embedding_encoded)-1)\n",
    "print(index)\n",
    "print(\"low dim \",F.cosine_similarity(clip_embedding_encoded[index], latent_vector_encoded[index], dim=0).item())\n",
    "\n",
    "print(\"before \",F.cosine_similarity(clip_embedding[index], latent_vector[index], dim=0).item())\n",
    "\n",
    "#Do an histogram of the cosine similarity between the clip embeddings and the latent vectors \n",
    "#to see how many of them are similar\n",
    "cosine_similarity_high_dim=[]\n",
    "for i in range(len(clip_embedding)):\n",
    "    cosine_similarity_high_dim.append(F.cosine_similarity(clip_embedding[i], latent_vector[i], dim=0).item())\n",
    "cosine_similarity_high_dim=np.array(cosine_similarity_high_dim)\n",
    "cosine_similarity_low_dim=[]\n",
    "for i in range(len(clip_embedding_encoded)):\n",
    "    cosine_similarity_low_dim.append(F.cosine_similarity(clip_embedding_encoded[i], latent_vector_encoded[i], dim=0).item())\n",
    "cosine_similarity_low_dim=np.array(cosine_similarity_low_dim)\n"
   ]
  },
  {
   "cell_type": "code",
   "execution_count": 21,
   "metadata": {},
   "outputs": [
    {
     "data": {
      "text/plain": [
       "Text(0.5, 1.0, 'Cosine similarity ${R}^{64}$')"
      ]
     },
     "execution_count": 21,
     "metadata": {},
     "output_type": "execute_result"
    },
    {
     "data": {
      "image/png": "[encoded data removed]",
      "text/plain": [
       "<Figure size 1000x500 with 2 Axes>"
      ]
     },
     "metadata": {},
     "output_type": "display_data"
    }
   ],
   "source": [
    "\n",
    "fig, axs = plt.subplots(1, 2, figsize=(10, 5))\n",
    "axs[0].hist(cosine_similarity_high_dim, bins=100)\n",
    "axs[0].set_title('Cosine similarity  ${R}^{512}$',fontdict={'fontsize': 20})\n",
    "axs[1].hist(cosine_similarity_low_dim, bins=100)\n",
    "axs[1].set_title('Cosine similarity ${R}^{64}$',fontdict={'fontsize': 20})"
   ]
  },
  {
   "cell_type": "code",
   "execution_count": 4,
   "metadata": {},
   "outputs": [],
   "source": [
    "def train_MLP(train_loader, val_loader, mlp, n_epochs=1000, batch_size=12, learning_rate=1e-3, use_cuda=True,scheduler=None):\n",
    "    # Initialize optimizer\n",
    "    optimizer = torch.optim.Adam(mlp.parameters(), lr=learning_rate)\n",
    "    if scheduler is not None: scheduler = lrs.ExponentialLR(optimizer, gamma=0.95) \n",
    "    # Initialize dataloader\n",
    "    # Train MLP\n",
    "    total_step = len(train_loader)\n",
    "    total_step_val = len(val_loader)\n",
    "    \n",
    "    print(\"total_step: \", total_step)\n",
    "    print(\"Starting training loop...\")\n",
    "    losses_train = []\n",
    "    losses_val = []\n",
    "    for epoch in range(n_epochs):\n",
    "        loss_avg_train = 0\n",
    "        for i, (clip_e, latent_v) in enumerate(train_loader):\n",
    "            \n",
    "            optimizer.zero_grad()\n",
    "            loss = mlp.backward(clip_e, latent_v)\n",
    "            loss.backward()\n",
    "            optimizer.step()\n",
    "            \n",
    "            loss_avg_train += loss.cpu().item()  \n",
    "        loss_avg_train = loss_avg_train / total_step\n",
    "        losses_train.append(loss_avg_train)\n",
    "\n",
    "        loss_avg_val = 0\n",
    "        for (clip_e, latent_v) in val_loader:\n",
    "            with torch.no_grad():\n",
    "                loss_val = mlp.backward(clip_e, latent_v)\n",
    "            \n",
    "            loss_avg_val += loss_val.cpu().item()  \n",
    "        loss_avg_val = loss_avg_val / total_step_val\n",
    "        losses_val.append(loss_avg_val)\n",
    "\n",
    "        if ((epoch) % 10 == 0):\n",
    "            if scheduler is None:\n",
    "                print ('Epoch [{}/{}], Loss Train: {:.4f} , Loss Val: {:.4f}'\n",
    "                        .format(epoch, n_epochs, loss_avg_train, loss_avg_val))\n",
    "            else:\n",
    "                print ('Epoch [{}/{}], Loss: {:.4f}, Loss Val: {:.4f}, LR: {:.4f}'\n",
    "                    .format(epoch, n_epochs, loss_avg_train, loss_avg_val, optimizer.param_groups[0]['lr']))\n",
    "        if scheduler is not None: scheduler.step()\n",
    "        \n",
    "    return losses_train, losses_val\n",
    "\n",
    "def test_MLP(test_loader, mlp, use_cuda=True):\n",
    "    losses = []\n",
    "    for i, (clip_e, latent_v) in enumerate(test_loader):\n",
    "        loss = mlp.backward(clip_e, latent_v)\n",
    "        losses.append(loss.cpu().item())\n",
    "    print(\"Mean loss: \", sum(losses)/len(losses))"
   ]
  },
  {
   "cell_type": "code",
   "execution_count": 44,
   "metadata": {},
   "outputs": [
    {
     "name": "stdout",
     "output_type": "stream",
     "text": [
      "torch.Size([64, 64])\n"
     ]
    }
   ],
   "source": [
    "# get shape of train loader\n",
    "for data in train_loader:\n",
    "    print(data[0].shape)\n",
    "    break"
   ]
  },
  {
   "cell_type": "code",
   "execution_count": null,
   "metadata": {},
   "outputs": [],
   "source": []
  },
  {
   "cell_type": "code",
   "execution_count": 24,
   "metadata": {},
   "outputs": [
    {
     "name": "stdout",
     "output_type": "stream",
     "text": [
      "total_step:  134\n",
      "Starting training loop...\n",
      "Epoch [0/500], Loss Train: 0.9538 , Loss Val: 0.9105\n",
      "Epoch [10/500], Loss Train: 0.6591 , Loss Val: 0.9390\n",
      "Epoch [20/500], Loss Train: 0.5475 , Loss Val: 0.9551\n",
      "Epoch [30/500], Loss Train: 0.4994 , Loss Val: 0.9576\n",
      "Epoch [40/500], Loss Train: 0.4708 , Loss Val: 0.9641\n",
      "Epoch [50/500], Loss Train: 0.4531 , Loss Val: 0.9641\n",
      "Epoch [60/500], Loss Train: 0.4399 , Loss Val: 0.9652\n",
      "Epoch [70/500], Loss Train: 0.4310 , Loss Val: 0.9672\n",
      "Epoch [80/500], Loss Train: 0.4226 , Loss Val: 0.9690\n",
      "Epoch [90/500], Loss Train: 0.4163 , Loss Val: 0.9689\n",
      "Epoch [100/500], Loss Train: 0.4106 , Loss Val: 0.9710\n",
      "Epoch [110/500], Loss Train: 0.4065 , Loss Val: 0.9718\n",
      "Epoch [120/500], Loss Train: 0.4027 , Loss Val: 0.9717\n",
      "Epoch [130/500], Loss Train: 0.3998 , Loss Val: 0.9725\n",
      "Epoch [140/500], Loss Train: 0.3964 , Loss Val: 0.9719\n",
      "Epoch [150/500], Loss Train: 0.3935 , Loss Val: 0.9725\n",
      "Epoch [160/500], Loss Train: 0.3911 , Loss Val: 0.9720\n",
      "Epoch [170/500], Loss Train: 0.3885 , Loss Val: 0.9727\n",
      "Epoch [180/500], Loss Train: 0.3861 , Loss Val: 0.9722\n",
      "Epoch [190/500], Loss Train: 0.3847 , Loss Val: 0.9736\n",
      "Epoch [200/500], Loss Train: 0.3828 , Loss Val: 0.9751\n",
      "Epoch [210/500], Loss Train: 0.3810 , Loss Val: 0.9714\n",
      "Epoch [220/500], Loss Train: 0.3798 , Loss Val: 0.9724\n",
      "Epoch [230/500], Loss Train: 0.3782 , Loss Val: 0.9728\n",
      "Epoch [240/500], Loss Train: 0.3770 , Loss Val: 0.9732\n",
      "Epoch [250/500], Loss Train: 0.3759 , Loss Val: 0.9722\n",
      "Epoch [260/500], Loss Train: 0.3747 , Loss Val: 0.9727\n",
      "Epoch [270/500], Loss Train: 0.3739 , Loss Val: 0.9724\n",
      "Epoch [280/500], Loss Train: 0.3728 , Loss Val: 0.9732\n",
      "Epoch [290/500], Loss Train: 0.3716 , Loss Val: 0.9723\n",
      "Epoch [300/500], Loss Train: 0.3707 , Loss Val: 0.9735\n",
      "Epoch [310/500], Loss Train: 0.3697 , Loss Val: 0.9733\n",
      "Epoch [320/500], Loss Train: 0.3688 , Loss Val: 0.9730\n",
      "Epoch [330/500], Loss Train: 0.3681 , Loss Val: 0.9748\n",
      "Epoch [340/500], Loss Train: 0.3669 , Loss Val: 0.9734\n",
      "Epoch [350/500], Loss Train: 0.3670 , Loss Val: 0.9729\n",
      "Epoch [360/500], Loss Train: 0.3660 , Loss Val: 0.9733\n",
      "Epoch [370/500], Loss Train: 0.3655 , Loss Val: 0.9736\n",
      "Epoch [380/500], Loss Train: 0.3647 , Loss Val: 0.9741\n",
      "Epoch [390/500], Loss Train: 0.3640 , Loss Val: 0.9735\n",
      "Epoch [400/500], Loss Train: 0.3635 , Loss Val: 0.9733\n",
      "Epoch [410/500], Loss Train: 0.3629 , Loss Val: 0.9737\n",
      "Epoch [420/500], Loss Train: 0.3622 , Loss Val: 0.9736\n",
      "Epoch [430/500], Loss Train: 0.3614 , Loss Val: 0.9746\n",
      "Epoch [440/500], Loss Train: 0.3609 , Loss Val: 0.9743\n",
      "Epoch [450/500], Loss Train: 0.3607 , Loss Val: 0.9745\n",
      "Epoch [460/500], Loss Train: 0.3600 , Loss Val: 0.9735\n",
      "Epoch [470/500], Loss Train: 0.3598 , Loss Val: 0.9747\n",
      "Epoch [480/500], Loss Train: 0.3592 , Loss Val: 0.9738\n",
      "Epoch [490/500], Loss Train: 0.3587 , Loss Val: 0.9744\n"
     ]
    }
   ],
   "source": [
    "import matplotlib.pyplot as plt\n",
    "device = torch.device(\"cuda\" if torch.cuda.is_available() else \"cpu\")\n",
    "my_model = MLP(64, 64,hidden_dim=256,n_hidden=1).cuda()\n",
    "\n",
    "losses_train, losses_val=train_MLP(train_loader,val_loader=val_loader, mlp=my_model, n_epochs=500, batch_size=24, learning_rate=1e-3, use_cuda=False)\n"
   ]
  },
  {
   "cell_type": "code",
   "execution_count": 8,
   "metadata": {},
   "outputs": [],
   "source": [
    "\n",
    "MLP_path = os.getcwd().replace(\"\\\\\", \"/\") + '/MLP_dataset_std1/'\n",
    "\n",
    "clip_embedding_ = []\n",
    "latent_vector_ = []\n",
    "for i in range(0, len(os.listdir(MLP_path))//2):\n",
    "    with open(MLP_path+'clip_embeddings_' + str(i) + '.pkl', 'rb') as f:\n",
    "        clip_embedding_.append(pickle.load(f))\n",
    "    with open(MLP_path+'latent_vectors_' + str(i) + '.pkl', 'rb') as f:\n",
    "        latent_vector_.append(pickle.load(f))\n",
    "\n",
    "# put all the embeddings and latent vectors in one tensor\n",
    "clip_embedding = torch.cat(clip_embedding_)\n",
    "latent_vector = torch.cat(latent_vector_)\n",
    "\n",
    "dataset = torch.utils.data.TensorDataset(clip_embedding,latent_vector)\n",
    "\n",
    "# split the dataset into train, validation and test sets\n",
    "train, val= torch.utils.data.random_split(dataset, [int(len(dataset)*0.85), int(len(dataset)*0.15)])\n",
    "train_loader = torch.utils.data.DataLoader(train, batch_size=48, shuffle=True)\n",
    "val_loader = torch.utils.data.DataLoader(val, batch_size=48, shuffle=True)"
   ]
  },
  {
   "cell_type": "code",
   "execution_count": 7,
   "metadata": {},
   "outputs": [
    {
     "name": "stdout",
     "output_type": "stream",
     "text": [
      "total_step:  19\n",
      "Starting training loop...\n",
      "Epoch [0/500], Loss Train: 0.9975 , Loss Val: 0.9996\n",
      "Epoch [10/500], Loss Train: 0.5748 , Loss Val: 0.9704\n",
      "Epoch [20/500], Loss Train: 0.4086 , Loss Val: 0.9764\n",
      "Epoch [30/500], Loss Train: 0.3432 , Loss Val: 0.9863\n",
      "Epoch [40/500], Loss Train: 0.3109 , Loss Val: 0.9799\n",
      "Epoch [50/500], Loss Train: 0.2914 , Loss Val: 0.9808\n",
      "Epoch [60/500], Loss Train: 0.2782 , Loss Val: 0.9822\n",
      "Epoch [70/500], Loss Train: 0.2674 , Loss Val: 0.9777\n",
      "Epoch [80/500], Loss Train: 0.2610 , Loss Val: 0.9848\n",
      "Epoch [90/500], Loss Train: 0.2546 , Loss Val: 0.9864\n",
      "Epoch [100/500], Loss Train: 0.2481 , Loss Val: 0.9821\n",
      "Epoch [110/500], Loss Train: 0.2448 , Loss Val: 0.9815\n",
      "Epoch [120/500], Loss Train: 0.2418 , Loss Val: 0.9833\n",
      "Epoch [130/500], Loss Train: 0.2382 , Loss Val: 0.9833\n",
      "Epoch [140/500], Loss Train: 0.2347 , Loss Val: 0.9825\n",
      "Epoch [150/500], Loss Train: 0.2330 , Loss Val: 0.9841\n",
      "Epoch [160/500], Loss Train: 0.2305 , Loss Val: 0.9822\n",
      "Epoch [170/500], Loss Train: 0.2290 , Loss Val: 0.9821\n",
      "Epoch [180/500], Loss Train: 0.2265 , Loss Val: 0.9818\n",
      "Epoch [190/500], Loss Train: 0.2257 , Loss Val: 0.9834\n",
      "Epoch [200/500], Loss Train: 0.2230 , Loss Val: 0.9818\n",
      "Epoch [210/500], Loss Train: 0.2220 , Loss Val: 0.9819\n",
      "Epoch [220/500], Loss Train: 0.2208 , Loss Val: 0.9849\n",
      "Epoch [230/500], Loss Train: 0.2188 , Loss Val: 0.9807\n",
      "Epoch [240/500], Loss Train: 0.2183 , Loss Val: 0.9772\n",
      "Epoch [250/500], Loss Train: 0.2179 , Loss Val: 0.9799\n",
      "Epoch [260/500], Loss Train: 0.2165 , Loss Val: 0.9809\n",
      "Epoch [270/500], Loss Train: 0.2149 , Loss Val: 0.9820\n",
      "Epoch [280/500], Loss Train: 0.2140 , Loss Val: 0.9805\n",
      "Epoch [290/500], Loss Train: 0.2141 , Loss Val: 0.9858\n",
      "Epoch [300/500], Loss Train: 0.2115 , Loss Val: 0.9837\n",
      "Epoch [310/500], Loss Train: 0.2116 , Loss Val: 0.9777\n",
      "Epoch [320/500], Loss Train: 0.2108 , Loss Val: 0.9795\n",
      "Epoch [330/500], Loss Train: 0.2097 , Loss Val: 0.9785\n",
      "Epoch [340/500], Loss Train: 0.2092 , Loss Val: 0.9817\n",
      "Epoch [350/500], Loss Train: 0.2094 , Loss Val: 0.9827\n",
      "Epoch [360/500], Loss Train: 0.2074 , Loss Val: 0.9810\n",
      "Epoch [370/500], Loss Train: 0.2084 , Loss Val: 0.9824\n",
      "Epoch [380/500], Loss Train: 0.2064 , Loss Val: 0.9853\n",
      "Epoch [390/500], Loss Train: 0.2061 , Loss Val: 0.9846\n",
      "Epoch [400/500], Loss Train: 0.2057 , Loss Val: 0.9799\n",
      "Epoch [410/500], Loss Train: 0.2049 , Loss Val: 0.9808\n",
      "Epoch [420/500], Loss Train: 0.2055 , Loss Val: 0.9865\n",
      "Epoch [430/500], Loss Train: 0.2038 , Loss Val: 0.9769\n",
      "Epoch [440/500], Loss Train: 0.2047 , Loss Val: 0.9861\n",
      "Epoch [450/500], Loss Train: 0.2033 , Loss Val: 0.9796\n",
      "Epoch [460/500], Loss Train: 0.2023 , Loss Val: 0.9856\n",
      "Epoch [470/500], Loss Train: 0.2019 , Loss Val: 0.9837\n",
      "Epoch [480/500], Loss Train: 0.2013 , Loss Val: 0.9849\n",
      "Epoch [490/500], Loss Train: 0.2013 , Loss Val: 0.9861\n"
     ]
    },
    {
     "data": {
      "image/png": "[encoded data removed]",
      "text/plain": [
       "<Figure size 640x480 with 1 Axes>"
      ]
     },
     "metadata": {},
     "output_type": "display_data"
    }
   ],
   "source": [
    "device = torch.device(\"cuda\" if torch.cuda.is_available() else \"cpu\")\n",
    "my_model_512 = MLP(512, 512,hidden_dim=256,n_hidden=1).to(device)\n",
    "\n",
    "losses_train, losses_val=train_MLP(train_loader,val_loader=val_loader, mlp=my_model_512, n_epochs=500, batch_size=48, learning_rate=1e-3, use_cuda=True)\n",
    "\n",
    "# plot the losses\n",
    "plt.plot(losses_train, label='train')\n",
    "plt.plot(losses_val, label='val')\n",
    "plt.legend()\n",
    "plt.show()\n",
    "\n",
    "# save the model\n",
    "torch.save(my_model_512.state_dict(), 'MLP_512_cpu.pt')"
   ]
  },
  {
   "cell_type": "code",
   "execution_count": 73,
   "metadata": {},
   "outputs": [
    {
     "name": "stdout",
     "output_type": "stream",
     "text": [
      "2974\n",
      "Real -0.023883745074272156\n",
      "Prediction 0.7812249064445496\n",
      "47\n",
      "validation data  0.2347104847431183\n",
      "prediction  0.06313559412956238\n"
     ]
    }
   ],
   "source": [
    "\n",
    "index = random.randint(0, len(clip_embedding_encoded)-1)\n",
    "\n",
    "print(index)\n",
    "my_model.eval()\n",
    "prediction=my_model.forward(clip_embedding_encoded[index])\n",
    "\n",
    "print(\"Real\",F.cosine_similarity(clip_embedding_encoded[index], latent_vector_encoded[index], dim=0).item())\n",
    "print(\"Prediction\",F.cosine_similarity(prediction, latent_vector_encoded[index], dim=0).item())\n",
    "\n",
    "#get a sample of validation data\n",
    "for data in val_loader:\n",
    "    clip_val, latent_val = data\n",
    "    break\n",
    "\n",
    "index=random.randint(0, len(clip_val)-1)\n",
    "print(index)\n",
    "print(\"validation data \",F.cosine_similarity(clip_val[index], latent_val[index], dim=0).item())\n",
    "prediction=my_model.forward(clip_val[index])\n",
    "print(\"prediction \",F.cosine_similarity(prediction, latent_val[index], dim=0).item())\n",
    "\n",
    "# print(F.cosine_similarity(clip_embedding[index], latent_vector[index], dim=0).item())\n",
    "\n",
    "\n",
    "# print(my_model.backward(clip_embedding[0], latent_vector[0]))\n",
    "# print(my_model.backward(clip_embedding[0], prediction))"
   ]
  },
  {
   "cell_type": "code",
   "execution_count": 27,
   "metadata": {},
   "outputs": [
    {
     "data": {
      "image/png": "[encoded data removed]",
      "text/plain": [
       "<Figure size 500x300 with 1 Axes>"
      ]
     },
     "metadata": {},
     "output_type": "display_data"
    }
   ],
   "source": [
    "#save model\n",
    "torch.save(my_model.state_dict(), 'clip_to_latent_64_encode.pt')\n",
    "\n",
    "fig,ax=plt.subplots(figsize=(5,3))\n",
    "ax.plot(losses_train, label='Training Loss')\n",
    "ax.plot(losses_val, label='Validation Loss')\n",
    "ax.set_xlabel('Epochs')\n",
    "ax.set_ylabel('Loss')\n",
    "ax.set_title('MLP Training Loss',fontdict={'fontsize': 20})\n",
    "ax.legend()\n",
    "fig.tight_layout()\n",
    "plt.show()\n",
    "\n",
    "\n"
   ]
  },
  {
   "cell_type": "code",
   "execution_count": 67,
   "metadata": {},
   "outputs": [
    {
     "name": "stdout",
     "output_type": "stream",
     "text": [
      "Mean loss:  0.022173855238809034\n"
     ]
    }
   ],
   "source": [
    "test_MLP(test_loader, my_model, use_cuda=True)"
   ]
  }
 ],
 "metadata": {
  "kernelspec": {
   "display_name": "Python 3",
   "language": "python",
   "name": "python3"
  },
  "language_info": {
   "codemirror_mode": {
    "name": "ipython",
    "version": 3
   },
   "file_extension": ".py",
   "mimetype": "text/x-python",
   "name": "python",
   "nbconvert_exporter": "python",
   "pygments_lexer": "ipython3",
   "version": "3.10.11"
  },
  "orig_nbformat": 4
 },
 "nbformat": 4,
 "nbformat_minor": 2
}
